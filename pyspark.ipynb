{
 "cells": [
  {
   "cell_type": "code",
   "execution_count": 1,
   "metadata": {},
   "outputs": [
    {
     "data": {
      "text/html": [
       "\n",
       "            <div>\n",
       "                <p><b>SparkSession - in-memory</b></p>\n",
       "                \n",
       "        <div>\n",
       "            <p><b>SparkContext</b></p>\n",
       "\n",
       "            <p><a href=\"http://OMEN-Ayush:4040\">Spark UI</a></p>\n",
       "\n",
       "            <dl>\n",
       "              <dt>Version</dt>\n",
       "                <dd><code>v3.3.2</code></dd>\n",
       "              <dt>Master</dt>\n",
       "                <dd><code>local[*]</code></dd>\n",
       "              <dt>AppName</dt>\n",
       "                <dd><code>Sample</code></dd>\n",
       "            </dl>\n",
       "        </div>\n",
       "        \n",
       "            </div>\n",
       "        "
      ],
      "text/plain": [
       "<pyspark.sql.session.SparkSession at 0x132d6e851b0>"
      ]
     },
     "execution_count": 1,
     "metadata": {},
     "output_type": "execute_result"
    }
   ],
   "source": [
    "from pyspark.sql import SparkSession\n",
    "\n",
    "spark = SparkSession.builder.appName(\"Sample\").getOrCreate()\n",
    "\n",
    "spark"
   ]
  },
  {
   "cell_type": "code",
   "execution_count": 2,
   "metadata": {},
   "outputs": [
    {
     "name": "stdout",
     "output_type": "stream",
     "text": [
      "+--------+------+---+---------------+---------+\n",
      "| User ID|Gender|Age|EstimatedSalary|Purchased|\n",
      "+--------+------+---+---------------+---------+\n",
      "|15624510|  Male| 19|          19000|        0|\n",
      "|15810944|  Male| 35|          20000|        0|\n",
      "|15668575|Female| 26|          43000|        0|\n",
      "|15603246|Female| 27|          57000|        0|\n",
      "|15804002|  Male| 19|          76000|        0|\n",
      "|15728773|  Male| 27|          58000|        0|\n",
      "|15598044|Female| 27|          84000|        0|\n",
      "|15694829|Female| 32|         150000|        1|\n",
      "|15600575|  Male| 25|          33000|        0|\n",
      "|15727311|Female| 35|          65000|        0|\n",
      "|15570769|Female| 26|          80000|        0|\n",
      "|15606274|Female| 26|          52000|        0|\n",
      "|15746139|  Male| 20|          86000|        0|\n",
      "|15704987|  Male| 32|          18000|        0|\n",
      "|15628972|  Male| 18|          82000|        0|\n",
      "|15697686|  Male| 29|          80000|        0|\n",
      "|15733883|  Male| 47|          25000|        1|\n",
      "|15617482|  Male| 45|          26000|        1|\n",
      "|15704583|  Male| 46|          28000|        1|\n",
      "|15621083|Female| 48|          29000|        1|\n",
      "+--------+------+---+---------------+---------+\n",
      "only showing top 20 rows\n",
      "\n"
     ]
    }
   ],
   "source": [
    "# Read File \n",
    "\n",
    "df = spark.read.csv(\"User_Data.csv\", header=True, inferSchema=True)\n",
    "\n",
    "df.show()"
   ]
  },
  {
   "cell_type": "markdown",
   "metadata": {},
   "source": [
    "## Basic Operations"
   ]
  },
  {
   "cell_type": "code",
   "execution_count": 3,
   "metadata": {},
   "outputs": [
    {
     "name": "stdout",
     "output_type": "stream",
     "text": [
      "root\n",
      " |-- User ID: integer (nullable = true)\n",
      " |-- Gender: string (nullable = true)\n",
      " |-- Age: integer (nullable = true)\n",
      " |-- EstimatedSalary: integer (nullable = true)\n",
      " |-- Purchased: integer (nullable = true)\n",
      "\n"
     ]
    }
   ],
   "source": [
    "# Info of Df\n",
    "\n",
    "df.printSchema()"
   ]
  },
  {
   "cell_type": "code",
   "execution_count": 4,
   "metadata": {},
   "outputs": [
    {
     "data": {
      "text/plain": [
       "pyspark.sql.dataframe.DataFrame"
      ]
     },
     "execution_count": 4,
     "metadata": {},
     "output_type": "execute_result"
    }
   ],
   "source": [
    "type(df)"
   ]
  },
  {
   "cell_type": "code",
   "execution_count": 5,
   "metadata": {},
   "outputs": [
    {
     "data": {
      "text/plain": [
       "[Row(User ID=15624510, Gender='Male', Age=19, EstimatedSalary=19000, Purchased=0),\n",
       " Row(User ID=15810944, Gender='Male', Age=35, EstimatedSalary=20000, Purchased=0),\n",
       " Row(User ID=15668575, Gender='Female', Age=26, EstimatedSalary=43000, Purchased=0),\n",
       " Row(User ID=15603246, Gender='Female', Age=27, EstimatedSalary=57000, Purchased=0),\n",
       " Row(User ID=15804002, Gender='Male', Age=19, EstimatedSalary=76000, Purchased=0),\n",
       " Row(User ID=15728773, Gender='Male', Age=27, EstimatedSalary=58000, Purchased=0),\n",
       " Row(User ID=15598044, Gender='Female', Age=27, EstimatedSalary=84000, Purchased=0),\n",
       " Row(User ID=15694829, Gender='Female', Age=32, EstimatedSalary=150000, Purchased=1),\n",
       " Row(User ID=15600575, Gender='Male', Age=25, EstimatedSalary=33000, Purchased=0),\n",
       " Row(User ID=15727311, Gender='Female', Age=35, EstimatedSalary=65000, Purchased=0)]"
      ]
     },
     "execution_count": 5,
     "metadata": {},
     "output_type": "execute_result"
    }
   ],
   "source": [
    "df.head(10)"
   ]
  },
  {
   "cell_type": "code",
   "execution_count": 6,
   "metadata": {},
   "outputs": [
    {
     "name": "stdout",
     "output_type": "stream",
     "text": [
      "+--------+\n",
      "| User ID|\n",
      "+--------+\n",
      "|15624510|\n",
      "|15810944|\n",
      "|15668575|\n",
      "|15603246|\n",
      "|15804002|\n",
      "+--------+\n",
      "only showing top 5 rows\n",
      "\n"
     ]
    }
   ],
   "source": [
    "# Select a Column\n",
    "\n",
    "df.select('User ID').show(5)"
   ]
  },
  {
   "cell_type": "code",
   "execution_count": 7,
   "metadata": {},
   "outputs": [
    {
     "name": "stdout",
     "output_type": "stream",
     "text": [
      "+--------+------+\n",
      "| User ID|Gender|\n",
      "+--------+------+\n",
      "|15624510|  Male|\n",
      "|15810944|  Male|\n",
      "|15668575|Female|\n",
      "|15603246|Female|\n",
      "|15804002|  Male|\n",
      "+--------+------+\n",
      "only showing top 5 rows\n",
      "\n"
     ]
    }
   ],
   "source": [
    "# Select multiple Column\n",
    "\n",
    "df.select(['User ID', 'Gender']).show(5)"
   ]
  },
  {
   "cell_type": "code",
   "execution_count": 8,
   "metadata": {},
   "outputs": [
    {
     "data": {
      "text/plain": [
       "[('User ID', 'int'),\n",
       " ('Gender', 'string'),\n",
       " ('Age', 'int'),\n",
       " ('EstimatedSalary', 'int'),\n",
       " ('Purchased', 'int')]"
      ]
     },
     "execution_count": 8,
     "metadata": {},
     "output_type": "execute_result"
    }
   ],
   "source": [
    "df.dtypes"
   ]
  },
  {
   "cell_type": "code",
   "execution_count": 9,
   "metadata": {},
   "outputs": [
    {
     "name": "stdout",
     "output_type": "stream",
     "text": [
      "+-------+-----------------+------+------------------+----------------+------------------+\n",
      "|summary|          User ID|Gender|               Age| EstimatedSalary|         Purchased|\n",
      "+-------+-----------------+------+------------------+----------------+------------------+\n",
      "|  count|              400|   400|               400|             400|               400|\n",
      "|   mean|  1.56915397575E7|  null|            37.655|         69742.5|            0.3575|\n",
      "| stddev|71658.32158119006|  null|10.482876597307927|34096.9602824248|0.4798639635968691|\n",
      "|    min|         15566689|Female|                18|           15000|                 0|\n",
      "|    max|         15815236|  Male|                60|          150000|                 1|\n",
      "+-------+-----------------+------+------------------+----------------+------------------+\n",
      "\n"
     ]
    }
   ],
   "source": [
    "# Describe function\n",
    "\n",
    "df.describe().show()"
   ]
  },
  {
   "cell_type": "code",
   "execution_count": 10,
   "metadata": {},
   "outputs": [
    {
     "name": "stdout",
     "output_type": "stream",
     "text": [
      "+--------+------+---+---------------+---------+----------+\n",
      "| User ID|Gender|Age|EstimatedSalary|Purchased|New Column|\n",
      "+--------+------+---+---------------+---------+----------+\n",
      "|15624510|  Male| 19|          19000|        0|        29|\n",
      "|15810944|  Male| 35|          20000|        0|        45|\n",
      "|15668575|Female| 26|          43000|        0|        36|\n",
      "|15603246|Female| 27|          57000|        0|        37|\n",
      "|15804002|  Male| 19|          76000|        0|        29|\n",
      "+--------+------+---+---------------+---------+----------+\n",
      "only showing top 5 rows\n",
      "\n"
     ]
    }
   ],
   "source": [
    "# Adding a column in DataFrame\n",
    "\n",
    "df.withColumn(\"New Column\", df['Age']+10).show(5)"
   ]
  },
  {
   "cell_type": "markdown",
   "metadata": {},
   "source": [
    "## Handling Missing Values:"
   ]
  },
  {
   "cell_type": "code",
   "execution_count": 11,
   "metadata": {},
   "outputs": [
    {
     "name": "stdout",
     "output_type": "stream",
     "text": [
      "+------+---+---------------+---------+\n",
      "|Gender|Age|EstimatedSalary|Purchased|\n",
      "+------+---+---------------+---------+\n",
      "|  Male| 19|          19000|        0|\n",
      "|  Male| 35|          20000|        0|\n",
      "|Female| 26|          43000|        0|\n",
      "|Female| 27|          57000|        0|\n",
      "|  Male| 19|          76000|        0|\n",
      "+------+---+---------------+---------+\n",
      "only showing top 5 rows\n",
      "\n"
     ]
    }
   ],
   "source": [
    "# Drop column from Dataframe\n",
    "\n",
    "df.drop(\"User ID\").show(5)"
   ]
  },
  {
   "cell_type": "code",
   "execution_count": 12,
   "metadata": {},
   "outputs": [
    {
     "name": "stdout",
     "output_type": "stream",
     "text": [
      "+--------+------+-------+---------------+---------+\n",
      "| User ID|Gender|New Age|EstimatedSalary|Purchased|\n",
      "+--------+------+-------+---------------+---------+\n",
      "|15624510|  Male|     19|          19000|        0|\n",
      "|15810944|  Male|     35|          20000|        0|\n",
      "|15668575|Female|     26|          43000|        0|\n",
      "|15603246|Female|     27|          57000|        0|\n",
      "|15804002|  Male|     19|          76000|        0|\n",
      "+--------+------+-------+---------------+---------+\n",
      "only showing top 5 rows\n",
      "\n"
     ]
    }
   ],
   "source": [
    "# Rename the column\n",
    "\n",
    "df.withColumnRenamed(\"Age\", \"New Age\").show(5)"
   ]
  },
  {
   "cell_type": "code",
   "execution_count": 13,
   "metadata": {},
   "outputs": [
    {
     "name": "stdout",
     "output_type": "stream",
     "text": [
      "+--------+------+---+---------------+---------+\n",
      "| User ID|Gender|Age|EstimatedSalary|Purchased|\n",
      "+--------+------+---+---------------+---------+\n",
      "|15624510|  Male| 19|          19000|        0|\n",
      "|15810944|  Male| 35|          20000|        0|\n",
      "|15668575|Female| 26|          43000|        0|\n",
      "|15603246|Female| 27|          57000|        0|\n",
      "|15804002|  Male| 19|          76000|        0|\n",
      "+--------+------+---+---------------+---------+\n",
      "only showing top 5 rows\n",
      "\n"
     ]
    }
   ],
   "source": [
    "# Drop rows with null values\n",
    "\n",
    "df.na.drop().show(5)"
   ]
  },
  {
   "cell_type": "code",
   "execution_count": 14,
   "metadata": {},
   "outputs": [
    {
     "name": "stdout",
     "output_type": "stream",
     "text": [
      "+--------+------+---+---------------+---------+\n",
      "| User ID|Gender|Age|EstimatedSalary|Purchased|\n",
      "+--------+------+---+---------------+---------+\n",
      "|15624510|  Male| 19|          19000|        0|\n",
      "|15810944|  Male| 35|          20000|        0|\n",
      "|15668575|Female| 26|          43000|        0|\n",
      "|15603246|Female| 27|          57000|        0|\n",
      "|15804002|  Male| 19|          76000|        0|\n",
      "+--------+------+---+---------------+---------+\n",
      "only showing top 5 rows\n",
      "\n"
     ]
    }
   ],
   "source": [
    "# drop rows if it contains null value in any column\n",
    "\n",
    "df.na.drop(how='any').show(5)"
   ]
  },
  {
   "cell_type": "code",
   "execution_count": 15,
   "metadata": {},
   "outputs": [
    {
     "name": "stdout",
     "output_type": "stream",
     "text": [
      "+--------+------+---+---------------+---------+\n",
      "| User ID|Gender|Age|EstimatedSalary|Purchased|\n",
      "+--------+------+---+---------------+---------+\n",
      "|15624510|  Male| 19|          19000|        0|\n",
      "|15810944|  Male| 35|          20000|        0|\n",
      "|15668575|Female| 26|          43000|        0|\n",
      "|15603246|Female| 27|          57000|        0|\n",
      "|15804002|  Male| 19|          76000|        0|\n",
      "+--------+------+---+---------------+---------+\n",
      "only showing top 5 rows\n",
      "\n"
     ]
    }
   ],
   "source": [
    "# drop rows if it contains null value in all the columns\n",
    "\n",
    "df.na.drop(how='all').show(5)"
   ]
  },
  {
   "cell_type": "code",
   "execution_count": 16,
   "metadata": {},
   "outputs": [
    {
     "name": "stdout",
     "output_type": "stream",
     "text": [
      "+--------+------+---+---------------+---------+\n",
      "| User ID|Gender|Age|EstimatedSalary|Purchased|\n",
      "+--------+------+---+---------------+---------+\n",
      "|15624510|  Male| 19|          19000|        0|\n",
      "|15810944|  Male| 35|          20000|        0|\n",
      "|15668575|Female| 26|          43000|        0|\n",
      "|15603246|Female| 27|          57000|        0|\n",
      "|15804002|  Male| 19|          76000|        0|\n",
      "+--------+------+---+---------------+---------+\n",
      "only showing top 5 rows\n",
      "\n"
     ]
    }
   ],
   "source": [
    "# drop all rows which does not contain atleast 3 non null columns\n",
    "\n",
    "df.na.drop(thresh=3).show(5)"
   ]
  },
  {
   "cell_type": "code",
   "execution_count": 17,
   "metadata": {},
   "outputs": [
    {
     "name": "stdout",
     "output_type": "stream",
     "text": [
      "+--------+------+---+---------------+---------+\n",
      "| User ID|Gender|Age|EstimatedSalary|Purchased|\n",
      "+--------+------+---+---------------+---------+\n",
      "|15624510|  Male| 19|          19000|        0|\n",
      "|15810944|  Male| 35|          20000|        0|\n",
      "|15668575|Female| 26|          43000|        0|\n",
      "|15603246|Female| 27|          57000|        0|\n",
      "|15804002|  Male| 19|          76000|        0|\n",
      "+--------+------+---+---------------+---------+\n",
      "only showing top 5 rows\n",
      "\n"
     ]
    }
   ],
   "source": [
    "# drop all rows which have null values in particular columns\n",
    "\n",
    "df.na.drop(subset=\"Age\").show(5)"
   ]
  },
  {
   "cell_type": "code",
   "execution_count": 18,
   "metadata": {},
   "outputs": [
    {
     "name": "stdout",
     "output_type": "stream",
     "text": [
      "+--------+------+---+---------------+---------+\n",
      "| User ID|Gender|Age|EstimatedSalary|Purchased|\n",
      "+--------+------+---+---------------+---------+\n",
      "|15624510|  Male| 19|          19000|        0|\n",
      "|15810944|  Male| 35|          20000|        0|\n",
      "|15668575|Female| 26|          43000|        0|\n",
      "|15603246|Female| 27|          57000|        0|\n",
      "|15804002|  Male| 19|          76000|        0|\n",
      "+--------+------+---+---------------+---------+\n",
      "only showing top 5 rows\n",
      "\n"
     ]
    }
   ],
   "source": [
    "# fill null values\n",
    "\n",
    "df.na.fill(\"Filled\", subset=[\"Age\", \"Purchased\"]).show(5)"
   ]
  },
  {
   "cell_type": "code",
   "execution_count": 19,
   "metadata": {},
   "outputs": [
    {
     "name": "stdout",
     "output_type": "stream",
     "text": [
      "+--------+------+---+---------------+---------+-----------+-----------------------+-----------------+\n",
      "| User ID|Gender|Age|EstimatedSalary|Purchased|Age_imputed|EstimatedSalary_imputed|Purchased_imputed|\n",
      "+--------+------+---+---------------+---------+-----------+-----------------------+-----------------+\n",
      "|15624510|  Male| 19|          19000|        0|         19|                  19000|                0|\n",
      "|15810944|  Male| 35|          20000|        0|         35|                  20000|                0|\n",
      "|15668575|Female| 26|          43000|        0|         26|                  43000|                0|\n",
      "|15603246|Female| 27|          57000|        0|         27|                  57000|                0|\n",
      "|15804002|  Male| 19|          76000|        0|         19|                  76000|                0|\n",
      "+--------+------+---+---------------+---------+-----------+-----------------------+-----------------+\n",
      "only showing top 5 rows\n",
      "\n"
     ]
    }
   ],
   "source": [
    "# Impute Null Values\n",
    "\n",
    "from pyspark.ml.feature import Imputer\n",
    "\n",
    "imputer = Imputer(\n",
    "    inputCols = [\"Age\",\"EstimatedSalary\", \"Purchased\"],\n",
    "    outputCols = [\"{}_imputed\".format(a) for a in [\"Age\",\"EstimatedSalary\", \"Purchased\"]]\n",
    ").setStrategy(\"mean\")\n",
    "\n",
    "imputer.fit(df).transform(df).show(5)\n"
   ]
  },
  {
   "cell_type": "markdown",
   "metadata": {},
   "source": [
    "## Filter operations"
   ]
  },
  {
   "cell_type": "code",
   "execution_count": 21,
   "metadata": {},
   "outputs": [
    {
     "name": "stdout",
     "output_type": "stream",
     "text": [
      "+--------+------+---+---------------+---------+\n",
      "| User ID|Gender|Age|EstimatedSalary|Purchased|\n",
      "+--------+------+---+---------------+---------+\n",
      "|15624510|  Male| 19|          19000|        0|\n",
      "|15804002|  Male| 19|          76000|        0|\n",
      "|15628972|  Male| 18|          82000|        0|\n",
      "|15764195|Female| 18|          44000|        0|\n",
      "|15746737|  Male| 18|          52000|        0|\n",
      "|15672091|Female| 19|          21000|        0|\n",
      "|15741094|  Male| 19|          25000|        0|\n",
      "|15807909|  Male| 19|          85000|        0|\n",
      "|15666141|Female| 18|          68000|        0|\n",
      "|15578738|Female| 18|          86000|        0|\n",
      "|15662067|Female| 19|          26000|        0|\n",
      "|15662901|  Male| 19|          70000|        0|\n",
      "+--------+------+---+---------------+---------+\n",
      "\n"
     ]
    }
   ],
   "source": [
    "df.filter(\"Age < 20\").show()"
   ]
  },
  {
   "cell_type": "code",
   "execution_count": 22,
   "metadata": {},
   "outputs": [
    {
     "name": "stdout",
     "output_type": "stream",
     "text": [
      "+--------+---+\n",
      "| User ID|Age|\n",
      "+--------+---+\n",
      "|15624510| 19|\n",
      "|15804002| 19|\n",
      "|15628972| 18|\n",
      "|15764195| 18|\n",
      "|15746737| 18|\n",
      "|15672091| 19|\n",
      "|15741094| 19|\n",
      "|15807909| 19|\n",
      "|15666141| 18|\n",
      "|15578738| 18|\n",
      "|15662067| 19|\n",
      "|15662901| 19|\n",
      "+--------+---+\n",
      "\n"
     ]
    }
   ],
   "source": [
    "df.filter(\"Age < 20\").select([\"User ID\", \"Age\"]).show()"
   ]
  },
  {
   "cell_type": "code",
   "execution_count": 23,
   "metadata": {},
   "outputs": [
    {
     "name": "stdout",
     "output_type": "stream",
     "text": [
      "+--------+------+---+---------------+---------+\n",
      "| User ID|Gender|Age|EstimatedSalary|Purchased|\n",
      "+--------+------+---+---------------+---------+\n",
      "|15624510|  Male| 19|          19000|        0|\n",
      "|15804002|  Male| 19|          76000|        0|\n",
      "|15628972|  Male| 18|          82000|        0|\n",
      "|15764195|Female| 18|          44000|        0|\n",
      "|15746737|  Male| 18|          52000|        0|\n",
      "|15672091|Female| 19|          21000|        0|\n",
      "|15741094|  Male| 19|          25000|        0|\n",
      "|15807909|  Male| 19|          85000|        0|\n",
      "|15666141|Female| 18|          68000|        0|\n",
      "|15578738|Female| 18|          86000|        0|\n",
      "|15662067|Female| 19|          26000|        0|\n",
      "|15662901|  Male| 19|          70000|        0|\n",
      "+--------+------+---+---------------+---------+\n",
      "\n"
     ]
    }
   ],
   "source": [
    "#alternate way\n",
    "\n",
    "df.filter(df[\"Age\"]< 20).show()"
   ]
  },
  {
   "cell_type": "code",
   "execution_count": 24,
   "metadata": {},
   "outputs": [
    {
     "name": "stdout",
     "output_type": "stream",
     "text": [
      "+--------+------+---+---------------+---------+\n",
      "| User ID|Gender|Age|EstimatedSalary|Purchased|\n",
      "+--------+------+---+---------------+---------+\n",
      "|15624510|  Male| 19|          19000|        0|\n",
      "|15804002|  Male| 19|          76000|        0|\n",
      "|15628972|  Male| 18|          82000|        0|\n",
      "|15733883|  Male| 47|          25000|        1|\n",
      "|15617482|  Male| 45|          26000|        1|\n",
      "|15704583|  Male| 46|          28000|        1|\n",
      "|15621083|Female| 48|          29000|        1|\n",
      "|15649487|  Male| 45|          22000|        1|\n",
      "|15736760|Female| 47|          49000|        1|\n",
      "|15714658|  Male| 48|          41000|        1|\n",
      "|15599081|Female| 45|          22000|        1|\n",
      "|15705113|  Male| 46|          23000|        1|\n",
      "|15631159|  Male| 47|          20000|        1|\n",
      "|15792818|  Male| 49|          28000|        1|\n",
      "|15633531|Female| 47|          30000|        1|\n",
      "|15764195|Female| 18|          44000|        0|\n",
      "|15605000|Female| 59|          83000|        0|\n",
      "|15746737|  Male| 18|          52000|        0|\n",
      "|15672091|Female| 19|          21000|        0|\n",
      "|15739160|  Male| 42|          80000|        0|\n",
      "+--------+------+---+---------------+---------+\n",
      "only showing top 20 rows\n",
      "\n"
     ]
    }
   ],
   "source": [
    "# two or more conditions\n",
    "\n",
    "df.filter((df[\"Age\"] < 20) | (df[\"Age\"] > 40)).show()"
   ]
  },
  {
   "cell_type": "code",
   "execution_count": 27,
   "metadata": {},
   "outputs": [
    {
     "name": "stdout",
     "output_type": "stream",
     "text": [
      "+--------+------+---+---------------+---------+\n",
      "| User ID|Gender|Age|EstimatedSalary|Purchased|\n",
      "+--------+------+---+---------------+---------+\n",
      "|15810944|  Male| 35|          20000|        0|\n",
      "|15668575|Female| 26|          43000|        0|\n",
      "|15603246|Female| 27|          57000|        0|\n",
      "|15728773|  Male| 27|          58000|        0|\n",
      "|15598044|Female| 27|          84000|        0|\n",
      "|15694829|Female| 32|         150000|        1|\n",
      "|15600575|  Male| 25|          33000|        0|\n",
      "|15727311|Female| 35|          65000|        0|\n",
      "|15570769|Female| 26|          80000|        0|\n",
      "|15606274|Female| 26|          52000|        0|\n",
      "|15746139|  Male| 20|          86000|        0|\n",
      "|15704987|  Male| 32|          18000|        0|\n",
      "|15697686|  Male| 29|          80000|        0|\n",
      "|15744529|  Male| 29|          43000|        0|\n",
      "|15669656|  Male| 31|          18000|        0|\n",
      "|15581198|  Male| 31|          74000|        0|\n",
      "|15729054|Female| 27|         137000|        1|\n",
      "|15573452|Female| 21|          16000|        0|\n",
      "|15776733|Female| 28|          44000|        0|\n",
      "|15724858|  Male| 27|          90000|        0|\n",
      "+--------+------+---+---------------+---------+\n",
      "only showing top 20 rows\n",
      "\n"
     ]
    }
   ],
   "source": [
    "# not operation\n",
    "\n",
    "df.filter(~(df[\"Age\"] < 20) & ~(df[\"Age\"] > 40)).show()"
   ]
  },
  {
   "cell_type": "markdown",
   "metadata": {},
   "source": [
    "## Group By and Aggregate Functions"
   ]
  },
  {
   "cell_type": "code",
   "execution_count": 37,
   "metadata": {},
   "outputs": [
    {
     "name": "stdout",
     "output_type": "stream",
     "text": [
      "+---+------------+--------+--------------------+--------------+\n",
      "|Age|max(User ID)|max(Age)|max(EstimatedSalary)|max(Purchased)|\n",
      "+---+------------+--------+--------------------+--------------+\n",
      "| 31|    15814816|      31|              118000|             1|\n",
      "| 53|    15778830|      53|              143000|             1|\n",
      "| 34|    15667742|      34|              115000|             1|\n",
      "| 28|    15807481|      28|              123000|             1|\n",
      "| 26|    15809823|      26|              118000|             0|\n",
      "| 27|    15814004|      27|              137000|             1|\n",
      "| 44|    15810075|      44|              139000|             1|\n",
      "| 22|    15774179|      22|               81000|             0|\n",
      "| 47|    15768072|      47|              144000|             1|\n",
      "| 52|    15794566|      52|              150000|             1|\n",
      "| 20|    15767871|      20|               86000|             0|\n",
      "| 40|    15813113|      40|              142000|             1|\n",
      "| 57|    15814553|      57|              122000|             1|\n",
      "| 54|    15778368|      54|              108000|             1|\n",
      "| 48|    15807837|      48|              141000|             1|\n",
      "| 19|    15807909|      19|               85000|             0|\n",
      "| 41|    15809347|      41|               87000|             1|\n",
      "| 43|    15705298|      43|              133000|             1|\n",
      "| 37|    15793890|      37|              146000|             1|\n",
      "| 35|    15811177|      35|              147000|             1|\n",
      "+---+------------+--------+--------------------+--------------+\n",
      "only showing top 20 rows\n",
      "\n"
     ]
    }
   ],
   "source": [
    "# group by\n",
    "\n",
    "df.groupby(\"Age\").max().show()"
   ]
  },
  {
   "cell_type": "code",
   "execution_count": 38,
   "metadata": {},
   "outputs": [
    {
     "name": "stdout",
     "output_type": "stream",
     "text": [
      "+---+--------------------+\n",
      "|Age|max(EstimatedSalary)|\n",
      "+---+--------------------+\n",
      "| 31|              118000|\n",
      "| 53|              143000|\n",
      "| 34|              115000|\n",
      "| 28|              123000|\n",
      "| 26|              118000|\n",
      "| 27|              137000|\n",
      "| 44|              139000|\n",
      "| 22|               81000|\n",
      "| 47|              144000|\n",
      "| 52|              150000|\n",
      "| 20|               86000|\n",
      "| 40|              142000|\n",
      "| 57|              122000|\n",
      "| 54|              108000|\n",
      "| 48|              141000|\n",
      "| 19|               85000|\n",
      "| 41|               87000|\n",
      "| 43|              133000|\n",
      "| 37|              146000|\n",
      "| 35|              147000|\n",
      "+---+--------------------+\n",
      "only showing top 20 rows\n",
      "\n"
     ]
    }
   ],
   "source": [
    "# Aggregating particular column\n",
    "\n",
    "df.groupby(\"Age\").max(\"EstimatedSalary\").show()"
   ]
  },
  {
   "cell_type": "code",
   "execution_count": 39,
   "metadata": {},
   "outputs": [
    {
     "name": "stdout",
     "output_type": "stream",
     "text": [
      "+---+---------+--------------------+\n",
      "|Age|Purchased|min(EstimatedSalary)|\n",
      "+---+---------+--------------------+\n",
      "| 30|        0|               15000|\n",
      "| 58|        1|               23000|\n",
      "| 48|        1|               29000|\n",
      "| 42|        0|               53000|\n",
      "| 41|        0|               30000|\n",
      "| 29|        0|               28000|\n",
      "| 36|        1|               99000|\n",
      "| 59|        0|               42000|\n",
      "| 23|        0|               20000|\n",
      "| 41|        1|               87000|\n",
      "| 26|        0|               15000|\n",
      "| 39|        0|               42000|\n",
      "| 28|        1|              123000|\n",
      "| 31|        1|              118000|\n",
      "| 59|        1|               29000|\n",
      "| 46|        0|               22000|\n",
      "| 44|        1|              139000|\n",
      "| 60|        1|               34000|\n",
      "| 54|        1|               26000|\n",
      "| 49|        0|               65000|\n",
      "+---+---------+--------------------+\n",
      "only showing top 20 rows\n",
      "\n"
     ]
    }
   ],
   "source": [
    "# Using multiple columns\n",
    "\n",
    "df.groupBy(\"Age\", \"Purchased\").min(\"EstimatedSalary\").show()"
   ]
  },
  {
   "cell_type": "code",
   "execution_count": 45,
   "metadata": {},
   "outputs": [
    {
     "name": "stdout",
     "output_type": "stream",
     "text": [
      "root\n",
      " |-- User ID: integer (nullable = true)\n",
      " |-- Gender: string (nullable = true)\n",
      " |-- Age: integer (nullable = true)\n",
      " |-- EstimatedSalary: integer (nullable = true)\n",
      " |-- Purchased: integer (nullable = true)\n",
      "\n"
     ]
    }
   ],
   "source": [
    "df.printSchema()"
   ]
  },
  {
   "cell_type": "code",
   "execution_count": 58,
   "metadata": {},
   "outputs": [
    {
     "name": "stdout",
     "output_type": "stream",
     "text": [
      "+---+-------+------------------+------+------+\n",
      "|Age|sumed  |avg               |max   |min   |\n",
      "+---+-------+------------------+------+------+\n",
      "|31 |687000 |62454.545454545456|118000|15000 |\n",
      "|53 |435000 |87000.0           |143000|34000 |\n",
      "|34 |410000 |68333.33333333333 |115000|25000 |\n",
      "|28 |833000 |69416.66666666667 |123000|32000 |\n",
      "|26 |856000 |53500.0           |118000|15000 |\n",
      "|27 |879000 |67615.38461538461 |137000|17000 |\n",
      "|44 |178000 |89000.0           |139000|39000 |\n",
      "|22 |244000 |48800.0           |81000 |18000 |\n",
      "|47 |841000 |60071.42857142857 |144000|20000 |\n",
      "|52 |551000 |91833.33333333333 |150000|21000 |\n",
      "|20 |432000 |61714.28571428572 |86000 |23000 |\n",
      "|40 |1083000|72200.0           |142000|47000 |\n",
      "|57 |315000 |63000.0           |122000|26000 |\n",
      "|54 |308000 |77000.0           |108000|26000 |\n",
      "|48 |1124000|80285.71428571429 |141000|29000 |\n",
      "|19 |322000 |46000.0           |85000 |19000 |\n",
      "|41 |1017000|63562.5           |87000 |30000 |\n",
      "|43 |374000 |124666.66666666667|133000|112000|\n",
      "|37 |1588000|79400.0           |146000|33000 |\n",
      "|35 |1978000|61812.5           |147000|20000 |\n",
      "+---+-------+------------------+------+------+\n",
      "only showing top 20 rows\n",
      "\n"
     ]
    }
   ],
   "source": [
    "# running more agg funcs at a time\n",
    "from pyspark.sql import functions\n",
    "\n",
    "df.groupBy(\"Age\").agg(functions.sum(\"EstimatedSalary\").alias(\"sumed\"),\n",
    "                      functions.mean(\"EstimatedSalary\").alias(\"avg\"),\n",
    "                      functions.max(\"EstimatedSalary\").alias(\"max\"),\n",
    "                      functions.min(\"EstimatedSalary\").alias(\"min\")).show(truncate=False)"
   ]
  },
  {
   "cell_type": "markdown",
   "metadata": {},
   "source": [
    "## ML"
   ]
  },
  {
   "cell_type": "code",
   "execution_count": 59,
   "metadata": {},
   "outputs": [
    {
     "name": "stdout",
     "output_type": "stream",
     "text": [
      "root\n",
      " |-- User ID: integer (nullable = true)\n",
      " |-- Gender: string (nullable = true)\n",
      " |-- Age: integer (nullable = true)\n",
      " |-- EstimatedSalary: integer (nullable = true)\n",
      " |-- Purchased: integer (nullable = true)\n",
      "\n"
     ]
    }
   ],
   "source": [
    "df.printSchema()"
   ]
  },
  {
   "cell_type": "code",
   "execution_count": 60,
   "metadata": {},
   "outputs": [
    {
     "data": {
      "text/plain": [
       "['User ID', 'Gender', 'Age', 'EstimatedSalary', 'Purchased']"
      ]
     },
     "execution_count": 60,
     "metadata": {},
     "output_type": "execute_result"
    }
   ],
   "source": [
    "df.columns"
   ]
  },
  {
   "cell_type": "code",
   "execution_count": 62,
   "metadata": {},
   "outputs": [
    {
     "name": "stdout",
     "output_type": "stream",
     "text": [
      "+--------+------+---+---------------+---------+--------------------+\n",
      "| User ID|Gender|Age|EstimatedSalary|Purchased|Independent Features|\n",
      "+--------+------+---+---------------+---------+--------------------+\n",
      "|15624510|  Male| 19|          19000|        0|      [19.0,19000.0]|\n",
      "|15810944|  Male| 35|          20000|        0|      [35.0,20000.0]|\n",
      "|15668575|Female| 26|          43000|        0|      [26.0,43000.0]|\n",
      "|15603246|Female| 27|          57000|        0|      [27.0,57000.0]|\n",
      "|15804002|  Male| 19|          76000|        0|      [19.0,76000.0]|\n",
      "|15728773|  Male| 27|          58000|        0|      [27.0,58000.0]|\n",
      "|15598044|Female| 27|          84000|        0|      [27.0,84000.0]|\n",
      "|15694829|Female| 32|         150000|        1|     [32.0,150000.0]|\n",
      "|15600575|  Male| 25|          33000|        0|      [25.0,33000.0]|\n",
      "|15727311|Female| 35|          65000|        0|      [35.0,65000.0]|\n",
      "|15570769|Female| 26|          80000|        0|      [26.0,80000.0]|\n",
      "|15606274|Female| 26|          52000|        0|      [26.0,52000.0]|\n",
      "|15746139|  Male| 20|          86000|        0|      [20.0,86000.0]|\n",
      "|15704987|  Male| 32|          18000|        0|      [32.0,18000.0]|\n",
      "|15628972|  Male| 18|          82000|        0|      [18.0,82000.0]|\n",
      "|15697686|  Male| 29|          80000|        0|      [29.0,80000.0]|\n",
      "|15733883|  Male| 47|          25000|        1|      [47.0,25000.0]|\n",
      "|15617482|  Male| 45|          26000|        1|      [45.0,26000.0]|\n",
      "|15704583|  Male| 46|          28000|        1|      [46.0,28000.0]|\n",
      "|15621083|Female| 48|          29000|        1|      [48.0,29000.0]|\n",
      "+--------+------+---+---------------+---------+--------------------+\n",
      "only showing top 20 rows\n",
      "\n"
     ]
    }
   ],
   "source": [
    "from pyspark.ml.feature import VectorAssembler\n",
    "\n",
    "featureAssembler = VectorAssembler(inputCols=[\"Age\", \"EstimatedSalary\"],\n",
    "                                   outputCol=\"Independent Features\")\n",
    "\n",
    "output = featureAssembler.transform(df)\n",
    "\n",
    "output.show()"
   ]
  },
  {
   "cell_type": "code",
   "execution_count": 63,
   "metadata": {},
   "outputs": [
    {
     "name": "stdout",
     "output_type": "stream",
     "text": [
      "+--------------------+---------+\n",
      "|Independent Features|Purchased|\n",
      "+--------------------+---------+\n",
      "|      [19.0,19000.0]|        0|\n",
      "|      [35.0,20000.0]|        0|\n",
      "|      [26.0,43000.0]|        0|\n",
      "|      [27.0,57000.0]|        0|\n",
      "|      [19.0,76000.0]|        0|\n",
      "|      [27.0,58000.0]|        0|\n",
      "|      [27.0,84000.0]|        0|\n",
      "|     [32.0,150000.0]|        1|\n",
      "|      [25.0,33000.0]|        0|\n",
      "|      [35.0,65000.0]|        0|\n",
      "|      [26.0,80000.0]|        0|\n",
      "|      [26.0,52000.0]|        0|\n",
      "|      [20.0,86000.0]|        0|\n",
      "|      [32.0,18000.0]|        0|\n",
      "|      [18.0,82000.0]|        0|\n",
      "|      [29.0,80000.0]|        0|\n",
      "|      [47.0,25000.0]|        1|\n",
      "|      [45.0,26000.0]|        1|\n",
      "|      [46.0,28000.0]|        1|\n",
      "|      [48.0,29000.0]|        1|\n",
      "+--------------------+---------+\n",
      "only showing top 20 rows\n",
      "\n"
     ]
    }
   ],
   "source": [
    "final_df = output.select(\"Independent Features\", \"Purchased\")\n",
    "\n",
    "final_df.show()"
   ]
  },
  {
   "cell_type": "code",
   "execution_count": 64,
   "metadata": {},
   "outputs": [],
   "source": [
    "from pyspark.ml.classification import LogisticRegression\n",
    "\n",
    "# train test split\n",
    "train_data, test_data = final_df.randomSplit([0.75, 0.25])\n",
    "\n",
    "logistic = LogisticRegression(featuresCol=\"Independent Features\", labelCol=\"Purchased\")\n",
    "model = logistic.fit(train_data)"
   ]
  },
  {
   "cell_type": "code",
   "execution_count": 65,
   "metadata": {},
   "outputs": [
    {
     "data": {
      "text/plain": [
       "DenseVector([0.2342, 0.0])"
      ]
     },
     "execution_count": 65,
     "metadata": {},
     "output_type": "execute_result"
    }
   ],
   "source": [
    "model.coefficients"
   ]
  },
  {
   "cell_type": "code",
   "execution_count": 66,
   "metadata": {},
   "outputs": [
    {
     "data": {
      "text/plain": [
       "-12.645099171904844"
      ]
     },
     "execution_count": 66,
     "metadata": {},
     "output_type": "execute_result"
    }
   ],
   "source": [
    "model.intercept"
   ]
  },
  {
   "cell_type": "code",
   "execution_count": 67,
   "metadata": {},
   "outputs": [
    {
     "name": "stdout",
     "output_type": "stream",
     "text": [
      "+--------------------+---------+--------------------+--------------------+----------+\n",
      "|Independent Features|Purchased|       rawPrediction|         probability|prediction|\n",
      "+--------------------+---------+--------------------+--------------------+----------+\n",
      "|      [18.0,82000.0]|        0|[5.48086576932168...|[0.99585155966515...|       0.0|\n",
      "|      [19.0,21000.0]|        0|[7.43953894522010...|[0.99941278898874...|       0.0|\n",
      "|      [20.0,23000.0]|        0|[7.13339679414263...|[0.99920263218003...|       0.0|\n",
      "|      [20.0,49000.0]|        0|[6.19871110364465...|[0.99797207279704...|       0.0|\n",
      "|      [20.0,74000.0]|        0|[5.2999748627812,...|[0.99503307411693...|       0.0|\n",
      "|      [20.0,82000.0]|        0|[5.01237926570489...|[0.99338894657173...|       0.0|\n",
      "|      [21.0,16000.0]|        0|[7.15079968977601...|[0.99921637786080...|       0.0|\n",
      "|      [22.0,55000.0]|        0|[5.51452790222064...|[0.99598832990030...|       0.0|\n",
      "|      [22.0,81000.0]|        0|[4.57984221172265...|[0.98984761357238...|       0.0|\n",
      "|      [24.0,84000.0]|        0|[4.00350735920225...|[0.98207563487507...|       0.0|\n",
      "|      [25.0,87000.0]|        0|[3.66141575849025...|[0.97494764063916...|       0.0|\n",
      "|      [26.0,80000.0]|        0|[3.67881865412362...|[0.97536920673767...|       0.0|\n",
      "|      [26.0,81000.0]|        0|[3.64286920448908...|[0.97449063339136...|       0.0|\n",
      "|      [27.0,17000.0]|        0|[5.70939072929112...|[0.99669625940655...|       0.0|\n",
      "|      [27.0,58000.0]|        0|[4.23546329427506...|[0.98573337894251...|       0.0|\n",
      "|      [27.0,89000.0]|        0|[3.12103035560438...|[0.95775193927304...|       0.0|\n",
      "|     [27.0,137000.0]|        1|[1.39545677314656...|[0.80146195718048...|       0.0|\n",
      "|      [28.0,32000.0]|        0|[4.93590573296466...|[0.99286728978565...|       0.0|\n",
      "|      [28.0,85000.0]|        0|[3.03058490233415...|[0.95393688116130...|       0.0|\n",
      "|      [29.0,28000.0]|        0|[4.84546027969442...|[0.99219736293067...|       0.0|\n",
      "+--------------------+---------+--------------------+--------------------+----------+\n",
      "only showing top 20 rows\n",
      "\n"
     ]
    }
   ],
   "source": [
    "results = model.evaluate(test_data)\n",
    "\n",
    "results.predictions.show()"
   ]
  },
  {
   "cell_type": "code",
   "execution_count": 68,
   "metadata": {},
   "outputs": [
    {
     "data": {
      "text/plain": [
       "0.801980198019802"
      ]
     },
     "execution_count": 68,
     "metadata": {},
     "output_type": "execute_result"
    }
   ],
   "source": [
    "results.accuracy"
   ]
  },
  {
   "cell_type": "markdown",
   "metadata": {},
   "source": []
  }
 ],
 "metadata": {
  "kernelspec": {
   "display_name": "venv",
   "language": "python",
   "name": "python3"
  },
  "language_info": {
   "codemirror_mode": {
    "name": "ipython",
    "version": 3
   },
   "file_extension": ".py",
   "mimetype": "text/x-python",
   "name": "python",
   "nbconvert_exporter": "python",
   "pygments_lexer": "ipython3",
   "version": "3.10.9"
  },
  "orig_nbformat": 4
 },
 "nbformat": 4,
 "nbformat_minor": 2
}
